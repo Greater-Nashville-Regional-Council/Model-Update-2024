{
 "cells": [
  {
   "cell_type": "code",
   "execution_count": 55,
   "id": "e84c6b7f",
   "metadata": {},
   "outputs": [],
   "source": [
    "import pandas as pd\n",
    "import sqlite3 as sq\n",
    "import matplotlib as mpl\n",
    "from matplotlib import rcParams\n",
    "import matplotlib.pyplot as plt\n",
    "import numpy as np\n",
    "pd.set_option('display.max_columns', None)\n",
    "pd.set_option('display.max_rows', None)\n",
    "pd.set_option('display.width', 150)\n",
    "np.set_printoptions(suppress=True)\n",
    "pd.options.display.float_format = '{:20,.2f}'.format"
   ]
  },
  {
   "cell_type": "code",
   "execution_count": 56,
   "id": "f3fc0d7b",
   "metadata": {},
   "outputs": [
    {
     "data": {
      "text/html": [
       "<div>\n",
       "<style scoped>\n",
       "    .dataframe tbody tr th:only-of-type {\n",
       "        vertical-align: middle;\n",
       "    }\n",
       "\n",
       "    .dataframe tbody tr th {\n",
       "        vertical-align: top;\n",
       "    }\n",
       "\n",
       "    .dataframe thead th {\n",
       "        text-align: right;\n",
       "    }\n",
       "</style>\n",
       "<table border=\"1\" class=\"dataframe\">\n",
       "  <thead>\n",
       "    <tr style=\"text-align: right;\">\n",
       "      <th></th>\n",
       "      <th>Industry</th>\n",
       "      <th>NAICS</th>\n",
       "      <th>Ownership</th>\n",
       "      <th>Cheatham County, Tennessee</th>\n",
       "      <th>Davidson County, Tennessee</th>\n",
       "      <th>Dickson County, Tennessee</th>\n",
       "      <th>Houston County, Tennessee</th>\n",
       "      <th>Humphreys County, Tennessee</th>\n",
       "      <th>Maury County, Tennessee</th>\n",
       "      <th>Montgomery County, Tennessee</th>\n",
       "      <th>Robertson County, Tennessee</th>\n",
       "      <th>Rutherford County, Tennessee</th>\n",
       "      <th>Stewart County, Tennessee</th>\n",
       "      <th>Sumner County, Tennessee</th>\n",
       "      <th>Trousdale County, Tennessee</th>\n",
       "      <th>Williamson County, Tennessee</th>\n",
       "      <th>Wilson County, Tennessee</th>\n",
       "    </tr>\n",
       "  </thead>\n",
       "  <tbody>\n",
       "    <tr>\n",
       "      <th>0</th>\n",
       "      <td>Total - All Industries</td>\n",
       "      <td>NaN</td>\n",
       "      <td>Total Employment</td>\n",
       "      <td>11083.33494</td>\n",
       "      <td>580063.7505</td>\n",
       "      <td>20915.34806</td>\n",
       "      <td>1825.910939</td>\n",
       "      <td>6790.175738</td>\n",
       "      <td>44525.94432</td>\n",
       "      <td>67755.70831</td>\n",
       "      <td>26078.00992</td>\n",
       "      <td>155101.0868</td>\n",
       "      <td>3549.294632</td>\n",
       "      <td>68570.03751</td>\n",
       "      <td>2389.200001</td>\n",
       "      <td>168647.5906</td>\n",
       "      <td>68695.96063</td>\n",
       "    </tr>\n",
       "    <tr>\n",
       "      <th>1</th>\n",
       "      <td>Total - All Industries</td>\n",
       "      <td>NaN</td>\n",
       "      <td>Covered Employment</td>\n",
       "      <td>9410.410541</td>\n",
       "      <td>547039.6749</td>\n",
       "      <td>18691.62486</td>\n",
       "      <td>1451.611485</td>\n",
       "      <td>6006.57841</td>\n",
       "      <td>40363.62806</td>\n",
       "      <td>62006.51248</td>\n",
       "      <td>23063.31165</td>\n",
       "      <td>143131.6684</td>\n",
       "      <td>3077.965375</td>\n",
       "      <td>60736.79941</td>\n",
       "      <td>2003.156011</td>\n",
       "      <td>155134.444</td>\n",
       "      <td>62553.87491</td>\n",
       "    </tr>\n",
       "  </tbody>\n",
       "</table>\n",
       "</div>"
      ],
      "text/plain": [
       "                 Industry NAICS           Ownership Cheatham County, Tennessee Davidson County, Tennessee Dickson County, Tennessee  \\\n",
       "0  Total - All Industries   NaN    Total Employment                11083.33494                580063.7505               20915.34806   \n",
       "1  Total - All Industries   NaN  Covered Employment                9410.410541                547039.6749               18691.62486   \n",
       "\n",
       "  Houston County, Tennessee Humphreys County, Tennessee Maury County, Tennessee Montgomery County, Tennessee Robertson County, Tennessee  \\\n",
       "0               1825.910939                 6790.175738             44525.94432                  67755.70831                 26078.00992   \n",
       "1               1451.611485                  6006.57841             40363.62806                  62006.51248                 23063.31165   \n",
       "\n",
       "  Rutherford County, Tennessee Stewart County, Tennessee Sumner County, Tennessee Trousdale County, Tennessee Williamson County, Tennessee  \\\n",
       "0                  155101.0868               3549.294632              68570.03751                 2389.200001                  168647.5906   \n",
       "1                  143131.6684               3077.965375              60736.79941                 2003.156011                   155134.444   \n",
       "\n",
       "  Wilson County, Tennessee  \n",
       "0              68695.96063  \n",
       "1              62553.87491  "
      ]
     },
     "execution_count": 56,
     "metadata": {},
     "output_type": "execute_result"
    }
   ],
   "source": [
    "data = pd.read_csv('../data/jobseq_2022_farmbreakout.csv', dtype = str)\n",
    "data.head(2)"
   ]
  },
  {
   "cell_type": "code",
   "execution_count": 57,
   "id": "99dcd2a3",
   "metadata": {},
   "outputs": [],
   "source": [
    "#reformat the JobsEQ download so that the geos are a columns\n",
    "data = data.melt(id_vars = ['Industry', 'NAICS', 'Ownership'], value_vars = ['Cheatham County, Tennessee', 'Davidson County, Tennessee', 'Dickson County, Tennessee', \n",
    "                                                                           'Houston County, Tennessee', 'Humphreys County, Tennessee', 'Maury County, Tennessee', \n",
    "                                                                           'Montgomery County, Tennessee', 'Robertson County, Tennessee', \n",
    "                                                                           'Rutherford County, Tennessee', 'Stewart County, Tennessee', 'Sumner County, Tennessee', \n",
    "                                                                           'Trousdale County, Tennessee', 'Williamson County, Tennessee', 'Wilson County, Tennessee'], \n",
    "               var_name = 'NAME', value_name = 'Empl')"
   ]
  },
  {
   "cell_type": "code",
   "execution_count": 58,
   "id": "857e895d",
   "metadata": {},
   "outputs": [
    {
     "data": {
      "text/html": [
       "<div>\n",
       "<style scoped>\n",
       "    .dataframe tbody tr th:only-of-type {\n",
       "        vertical-align: middle;\n",
       "    }\n",
       "\n",
       "    .dataframe tbody tr th {\n",
       "        vertical-align: top;\n",
       "    }\n",
       "\n",
       "    .dataframe thead th {\n",
       "        text-align: right;\n",
       "    }\n",
       "</style>\n",
       "<table border=\"1\" class=\"dataframe\">\n",
       "  <thead>\n",
       "    <tr style=\"text-align: right;\">\n",
       "      <th></th>\n",
       "      <th>Industry</th>\n",
       "      <th>NAICS</th>\n",
       "      <th>Ownership</th>\n",
       "      <th>NAME</th>\n",
       "      <th>Empl</th>\n",
       "    </tr>\n",
       "  </thead>\n",
       "  <tbody>\n",
       "    <tr>\n",
       "      <th>0</th>\n",
       "      <td>Total - All Industries</td>\n",
       "      <td>NaN</td>\n",
       "      <td>Total Employment</td>\n",
       "      <td>Cheatham County, Tennessee</td>\n",
       "      <td>11083.33494</td>\n",
       "    </tr>\n",
       "    <tr>\n",
       "      <th>1</th>\n",
       "      <td>Total - All Industries</td>\n",
       "      <td>NaN</td>\n",
       "      <td>Covered Employment</td>\n",
       "      <td>Cheatham County, Tennessee</td>\n",
       "      <td>9410.410541</td>\n",
       "    </tr>\n",
       "  </tbody>\n",
       "</table>\n",
       "</div>"
      ],
      "text/plain": [
       "                 Industry NAICS           Ownership                        NAME         Empl\n",
       "0  Total - All Industries   NaN    Total Employment  Cheatham County, Tennessee  11083.33494\n",
       "1  Total - All Industries   NaN  Covered Employment  Cheatham County, Tennessee  9410.410541"
      ]
     },
     "execution_count": 58,
     "metadata": {},
     "output_type": "execute_result"
    }
   ],
   "source": [
    "data.head(2)"
   ]
  },
  {
   "cell_type": "code",
   "execution_count": 59,
   "id": "047adc92",
   "metadata": {},
   "outputs": [],
   "source": [
    "#we are removing covered employment, that is the sum of private and all three categories of government employment\n",
    "#this leaves Total, Private, Local Government, State Government, and Federal Government, as well as Self-Employment\n",
    "data = data.loc[data['Ownership'] != 'Covered Employment']\n",
    "#drop the NAICS code, no need to carry it through all of the code\n",
    "data = data.drop(columns = 'NAICS')"
   ]
  },
  {
   "cell_type": "code",
   "execution_count": 6,
   "id": "bf5cfdaf",
   "metadata": {},
   "outputs": [],
   "source": [
    "#we need railroad and religious organization employment - which will be the difference between the total employment and all covered + self-employed"
   ]
  },
  {
   "cell_type": "code",
   "execution_count": 10,
   "id": "40ca3633",
   "metadata": {},
   "outputs": [],
   "source": [
    "#make sure the \n",
    "data['Empl'] = data['Empl'].astype(float)\n",
    "totals = data.loc[data['Ownership'] == 'Total Employment'].reset_index(drop = True)\n",
    "grouped = data.loc[data['Ownership'] != 'Total Employment'].reset_index(drop = True)"
   ]
  },
  {
   "cell_type": "code",
   "execution_count": 11,
   "id": "dd7adcc9",
   "metadata": {},
   "outputs": [
    {
     "data": {
      "text/html": [
       "<div>\n",
       "<style scoped>\n",
       "    .dataframe tbody tr th:only-of-type {\n",
       "        vertical-align: middle;\n",
       "    }\n",
       "\n",
       "    .dataframe tbody tr th {\n",
       "        vertical-align: top;\n",
       "    }\n",
       "\n",
       "    .dataframe thead th {\n",
       "        text-align: right;\n",
       "    }\n",
       "</style>\n",
       "<table border=\"1\" class=\"dataframe\">\n",
       "  <thead>\n",
       "    <tr style=\"text-align: right;\">\n",
       "      <th></th>\n",
       "      <th>Industry</th>\n",
       "      <th>Ownership</th>\n",
       "      <th>NAME</th>\n",
       "      <th>Empl</th>\n",
       "    </tr>\n",
       "  </thead>\n",
       "  <tbody>\n",
       "    <tr>\n",
       "      <th>0</th>\n",
       "      <td>Total - All Industries</td>\n",
       "      <td>Total Employment</td>\n",
       "      <td>Cheatham County, Tennessee</td>\n",
       "      <td>11,083.33</td>\n",
       "    </tr>\n",
       "    <tr>\n",
       "      <th>1</th>\n",
       "      <td>Crop Production</td>\n",
       "      <td>Total Employment</td>\n",
       "      <td>Cheatham County, Tennessee</td>\n",
       "      <td>76.18</td>\n",
       "    </tr>\n",
       "    <tr>\n",
       "      <th>2</th>\n",
       "      <td>Animal Production and Aquaculture</td>\n",
       "      <td>Total Employment</td>\n",
       "      <td>Cheatham County, Tennessee</td>\n",
       "      <td>83.95</td>\n",
       "    </tr>\n",
       "    <tr>\n",
       "      <th>3</th>\n",
       "      <td>Forestry and Logging</td>\n",
       "      <td>Total Employment</td>\n",
       "      <td>Cheatham County, Tennessee</td>\n",
       "      <td>4.60</td>\n",
       "    </tr>\n",
       "    <tr>\n",
       "      <th>4</th>\n",
       "      <td>Fishing, Hunting and Trapping</td>\n",
       "      <td>Total Employment</td>\n",
       "      <td>Cheatham County, Tennessee</td>\n",
       "      <td>0.00</td>\n",
       "    </tr>\n",
       "  </tbody>\n",
       "</table>\n",
       "</div>"
      ],
      "text/plain": [
       "                            Industry         Ownership                        NAME                 Empl\n",
       "0             Total - All Industries  Total Employment  Cheatham County, Tennessee            11,083.33\n",
       "1                    Crop Production  Total Employment  Cheatham County, Tennessee                76.18\n",
       "2  Animal Production and Aquaculture  Total Employment  Cheatham County, Tennessee                83.95\n",
       "3               Forestry and Logging  Total Employment  Cheatham County, Tennessee                 4.60\n",
       "4      Fishing, Hunting and Trapping  Total Employment  Cheatham County, Tennessee                 0.00"
      ]
     },
     "execution_count": 11,
     "metadata": {},
     "output_type": "execute_result"
    }
   ],
   "source": [
    "totals.head()"
   ]
  },
  {
   "cell_type": "code",
   "execution_count": 12,
   "id": "b9ae454b",
   "metadata": {},
   "outputs": [],
   "source": [
    "test = grouped.groupby(['NAME', 'Industry'])['Empl'].sum()"
   ]
  },
  {
   "cell_type": "code",
   "execution_count": 13,
   "id": "46b38fa8",
   "metadata": {},
   "outputs": [
    {
     "data": {
      "text/html": [
       "<div>\n",
       "<style scoped>\n",
       "    .dataframe tbody tr th:only-of-type {\n",
       "        vertical-align: middle;\n",
       "    }\n",
       "\n",
       "    .dataframe tbody tr th {\n",
       "        vertical-align: top;\n",
       "    }\n",
       "\n",
       "    .dataframe thead th {\n",
       "        text-align: right;\n",
       "    }\n",
       "</style>\n",
       "<table border=\"1\" class=\"dataframe\">\n",
       "  <thead>\n",
       "    <tr style=\"text-align: right;\">\n",
       "      <th></th>\n",
       "      <th>NAME</th>\n",
       "      <th>Industry</th>\n",
       "      <th>Empl</th>\n",
       "      <th>Ownership</th>\n",
       "    </tr>\n",
       "  </thead>\n",
       "  <tbody>\n",
       "    <tr>\n",
       "      <th>0</th>\n",
       "      <td>Cheatham County, Tennessee</td>\n",
       "      <td>Accommodation and Food Services</td>\n",
       "      <td>967.66</td>\n",
       "      <td>All Covered and Self-Employed</td>\n",
       "    </tr>\n",
       "    <tr>\n",
       "      <th>1</th>\n",
       "      <td>Cheatham County, Tennessee</td>\n",
       "      <td>Administrative and Support and Waste Managemen...</td>\n",
       "      <td>415.08</td>\n",
       "      <td>All Covered and Self-Employed</td>\n",
       "    </tr>\n",
       "    <tr>\n",
       "      <th>2</th>\n",
       "      <td>Cheatham County, Tennessee</td>\n",
       "      <td>Animal Production and Aquaculture</td>\n",
       "      <td>83.95</td>\n",
       "      <td>All Covered and Self-Employed</td>\n",
       "    </tr>\n",
       "    <tr>\n",
       "      <th>3</th>\n",
       "      <td>Cheatham County, Tennessee</td>\n",
       "      <td>Arts, Entertainment, and Recreation</td>\n",
       "      <td>249.35</td>\n",
       "      <td>All Covered and Self-Employed</td>\n",
       "    </tr>\n",
       "    <tr>\n",
       "      <th>4</th>\n",
       "      <td>Cheatham County, Tennessee</td>\n",
       "      <td>Construction</td>\n",
       "      <td>1,276.81</td>\n",
       "      <td>All Covered and Self-Employed</td>\n",
       "    </tr>\n",
       "  </tbody>\n",
       "</table>\n",
       "</div>"
      ],
      "text/plain": [
       "                         NAME                                           Industry                 Empl                      Ownership\n",
       "0  Cheatham County, Tennessee                    Accommodation and Food Services               967.66  All Covered and Self-Employed\n",
       "1  Cheatham County, Tennessee  Administrative and Support and Waste Managemen...               415.08  All Covered and Self-Employed\n",
       "2  Cheatham County, Tennessee                  Animal Production and Aquaculture                83.95  All Covered and Self-Employed\n",
       "3  Cheatham County, Tennessee                Arts, Entertainment, and Recreation               249.35  All Covered and Self-Employed\n",
       "4  Cheatham County, Tennessee                                       Construction             1,276.81  All Covered and Self-Employed"
      ]
     },
     "execution_count": 13,
     "metadata": {},
     "output_type": "execute_result"
    }
   ],
   "source": [
    "test = pd.DataFrame(test)\n",
    "test.reset_index(inplace = True)\n",
    "test['Ownership'] = 'All Covered and Self-Employed'\n",
    "test.head()"
   ]
  },
  {
   "cell_type": "code",
   "execution_count": 14,
   "id": "6f99e17c",
   "metadata": {},
   "outputs": [],
   "source": [
    "df = pd.concat([test, totals])"
   ]
  },
  {
   "cell_type": "code",
   "execution_count": 15,
   "id": "3ee83334",
   "metadata": {},
   "outputs": [],
   "source": [
    "data = df"
   ]
  },
  {
   "cell_type": "code",
   "execution_count": 16,
   "id": "ca50615d",
   "metadata": {},
   "outputs": [
    {
     "data": {
      "text/html": [
       "<div>\n",
       "<style scoped>\n",
       "    .dataframe tbody tr th:only-of-type {\n",
       "        vertical-align: middle;\n",
       "    }\n",
       "\n",
       "    .dataframe tbody tr th {\n",
       "        vertical-align: top;\n",
       "    }\n",
       "\n",
       "    .dataframe thead th {\n",
       "        text-align: right;\n",
       "    }\n",
       "</style>\n",
       "<table border=\"1\" class=\"dataframe\">\n",
       "  <thead>\n",
       "    <tr style=\"text-align: right;\">\n",
       "      <th></th>\n",
       "      <th>NAME</th>\n",
       "      <th>Industry</th>\n",
       "      <th>Empl</th>\n",
       "      <th>Ownership</th>\n",
       "    </tr>\n",
       "  </thead>\n",
       "  <tbody>\n",
       "    <tr>\n",
       "      <th>387</th>\n",
       "      <td>Wilson County, Tennessee</td>\n",
       "      <td>Arts, Entertainment, and Recreation</td>\n",
       "      <td>723.06</td>\n",
       "      <td>Total Employment</td>\n",
       "    </tr>\n",
       "    <tr>\n",
       "      <th>388</th>\n",
       "      <td>Wilson County, Tennessee</td>\n",
       "      <td>Accommodation and Food Services</td>\n",
       "      <td>6,406.05</td>\n",
       "      <td>Total Employment</td>\n",
       "    </tr>\n",
       "    <tr>\n",
       "      <th>389</th>\n",
       "      <td>Wilson County, Tennessee</td>\n",
       "      <td>Other Services (except Public Administration)</td>\n",
       "      <td>3,164.97</td>\n",
       "      <td>Total Employment</td>\n",
       "    </tr>\n",
       "    <tr>\n",
       "      <th>390</th>\n",
       "      <td>Wilson County, Tennessee</td>\n",
       "      <td>Public Administration</td>\n",
       "      <td>1,961.44</td>\n",
       "      <td>Total Employment</td>\n",
       "    </tr>\n",
       "    <tr>\n",
       "      <th>391</th>\n",
       "      <td>Wilson County, Tennessee</td>\n",
       "      <td>Unclassified</td>\n",
       "      <td>40.10</td>\n",
       "      <td>Total Employment</td>\n",
       "    </tr>\n",
       "  </tbody>\n",
       "</table>\n",
       "</div>"
      ],
      "text/plain": [
       "                         NAME                                       Industry                 Empl         Ownership\n",
       "387  Wilson County, Tennessee            Arts, Entertainment, and Recreation               723.06  Total Employment\n",
       "388  Wilson County, Tennessee                Accommodation and Food Services             6,406.05  Total Employment\n",
       "389  Wilson County, Tennessee  Other Services (except Public Administration)             3,164.97  Total Employment\n",
       "390  Wilson County, Tennessee                          Public Administration             1,961.44  Total Employment\n",
       "391  Wilson County, Tennessee                                   Unclassified                40.10  Total Employment"
      ]
     },
     "execution_count": 16,
     "metadata": {},
     "output_type": "execute_result"
    }
   ],
   "source": [
    "data.tail()"
   ]
  },
  {
   "cell_type": "code",
   "execution_count": 17,
   "id": "739b4e3c",
   "metadata": {},
   "outputs": [],
   "source": [
    "pivot_df = df.pivot_table(index=['NAME', 'Industry'], columns='Ownership', values='Empl', aggfunc='sum', fill_value=0)"
   ]
  },
  {
   "cell_type": "code",
   "execution_count": 18,
   "id": "2c512678",
   "metadata": {},
   "outputs": [
    {
     "data": {
      "text/html": [
       "<div>\n",
       "<style scoped>\n",
       "    .dataframe tbody tr th:only-of-type {\n",
       "        vertical-align: middle;\n",
       "    }\n",
       "\n",
       "    .dataframe tbody tr th {\n",
       "        vertical-align: top;\n",
       "    }\n",
       "\n",
       "    .dataframe thead th {\n",
       "        text-align: right;\n",
       "    }\n",
       "</style>\n",
       "<table border=\"1\" class=\"dataframe\">\n",
       "  <thead>\n",
       "    <tr style=\"text-align: right;\">\n",
       "      <th></th>\n",
       "      <th>Ownership</th>\n",
       "      <th>All Covered and Self-Employed</th>\n",
       "      <th>Total Employment</th>\n",
       "    </tr>\n",
       "    <tr>\n",
       "      <th>NAME</th>\n",
       "      <th>Industry</th>\n",
       "      <th></th>\n",
       "      <th></th>\n",
       "    </tr>\n",
       "  </thead>\n",
       "  <tbody>\n",
       "    <tr>\n",
       "      <th rowspan=\"5\" valign=\"top\">Cheatham County, Tennessee</th>\n",
       "      <th>Accommodation and Food Services</th>\n",
       "      <td>967.66</td>\n",
       "      <td>967.66</td>\n",
       "    </tr>\n",
       "    <tr>\n",
       "      <th>Administrative and Support and Waste Management and Remediation Services</th>\n",
       "      <td>415.08</td>\n",
       "      <td>415.08</td>\n",
       "    </tr>\n",
       "    <tr>\n",
       "      <th>Animal Production and Aquaculture</th>\n",
       "      <td>83.95</td>\n",
       "      <td>83.95</td>\n",
       "    </tr>\n",
       "    <tr>\n",
       "      <th>Arts, Entertainment, and Recreation</th>\n",
       "      <td>249.35</td>\n",
       "      <td>249.35</td>\n",
       "    </tr>\n",
       "    <tr>\n",
       "      <th>Construction</th>\n",
       "      <td>1,276.81</td>\n",
       "      <td>1,276.81</td>\n",
       "    </tr>\n",
       "  </tbody>\n",
       "</table>\n",
       "</div>"
      ],
      "text/plain": [
       "Ownership                                                                      All Covered and Self-Employed     Total Employment\n",
       "NAME                       Industry                                                                                              \n",
       "Cheatham County, Tennessee Accommodation and Food Services                                            967.66               967.66\n",
       "                           Administrative and Support and Waste Management...                         415.08               415.08\n",
       "                           Animal Production and Aquaculture                                           83.95                83.95\n",
       "                           Arts, Entertainment, and Recreation                                        249.35               249.35\n",
       "                           Construction                                                             1,276.81             1,276.81"
      ]
     },
     "execution_count": 18,
     "metadata": {},
     "output_type": "execute_result"
    }
   ],
   "source": [
    "pivot_df.head()"
   ]
  },
  {
   "cell_type": "code",
   "execution_count": 19,
   "id": "e73f60a1",
   "metadata": {},
   "outputs": [],
   "source": [
    "pivot_df['Non-Covered Religious and Rail'] = pivot_df['Total Employment'] - pivot_df['All Covered and Self-Employed']\n",
    "pivot_df['Non-Covered Religious and Rail'] = pivot_df['Non-Covered Religious and Rail'].clip(lower=0)"
   ]
  },
  {
   "cell_type": "code",
   "execution_count": 20,
   "id": "2e90af77",
   "metadata": {},
   "outputs": [],
   "source": [
    "result_df = pivot_df.reset_index().melt(id_vars=['NAME', 'Industry'], var_name='Ownership', value_name='Empl')"
   ]
  },
  {
   "cell_type": "code",
   "execution_count": 21,
   "id": "3082a98a",
   "metadata": {},
   "outputs": [
    {
     "name": "stdout",
     "output_type": "stream",
     "text": [
      "<class 'pandas.core.frame.DataFrame'>\n",
      "RangeIndex: 1176 entries, 0 to 1175\n",
      "Data columns (total 4 columns):\n",
      " #   Column     Non-Null Count  Dtype  \n",
      "---  ------     --------------  -----  \n",
      " 0   NAME       1176 non-null   object \n",
      " 1   Industry   1176 non-null   object \n",
      " 2   Ownership  1176 non-null   object \n",
      " 3   Empl       1176 non-null   float64\n",
      "dtypes: float64(1), object(3)\n",
      "memory usage: 36.9+ KB\n"
     ]
    }
   ],
   "source": [
    "result_df.info()"
   ]
  },
  {
   "cell_type": "code",
   "execution_count": 22,
   "id": "a0d62c89",
   "metadata": {},
   "outputs": [
    {
     "data": {
      "text/html": [
       "<div>\n",
       "<style scoped>\n",
       "    .dataframe tbody tr th:only-of-type {\n",
       "        vertical-align: middle;\n",
       "    }\n",
       "\n",
       "    .dataframe tbody tr th {\n",
       "        vertical-align: top;\n",
       "    }\n",
       "\n",
       "    .dataframe thead th {\n",
       "        text-align: right;\n",
       "    }\n",
       "</style>\n",
       "<table border=\"1\" class=\"dataframe\">\n",
       "  <thead>\n",
       "    <tr style=\"text-align: right;\">\n",
       "      <th></th>\n",
       "      <th>NAME</th>\n",
       "      <th>Industry</th>\n",
       "      <th>Ownership</th>\n",
       "      <th>Empl</th>\n",
       "    </tr>\n",
       "  </thead>\n",
       "  <tbody>\n",
       "    <tr>\n",
       "      <th>784</th>\n",
       "      <td>Cheatham County, Tennessee</td>\n",
       "      <td>Accommodation and Food Services</td>\n",
       "      <td>Non-Covered Religious and Rail</td>\n",
       "      <td>0.00</td>\n",
       "    </tr>\n",
       "    <tr>\n",
       "      <th>785</th>\n",
       "      <td>Cheatham County, Tennessee</td>\n",
       "      <td>Administrative and Support and Waste Managemen...</td>\n",
       "      <td>Non-Covered Religious and Rail</td>\n",
       "      <td>0.00</td>\n",
       "    </tr>\n",
       "  </tbody>\n",
       "</table>\n",
       "</div>"
      ],
      "text/plain": [
       "                           NAME                                           Industry                       Ownership                 Empl\n",
       "784  Cheatham County, Tennessee                    Accommodation and Food Services  Non-Covered Religious and Rail                 0.00\n",
       "785  Cheatham County, Tennessee  Administrative and Support and Waste Managemen...  Non-Covered Religious and Rail                 0.00"
      ]
     },
     "execution_count": 22,
     "metadata": {},
     "output_type": "execute_result"
    }
   ],
   "source": [
    "rr = result_df.loc[result_df['Ownership'] == 'Non-Covered Religious and Rail']\n",
    "rr.head(2)"
   ]
  },
  {
   "cell_type": "code",
   "execution_count": 23,
   "id": "834f197f",
   "metadata": {},
   "outputs": [
    {
     "name": "stderr",
     "output_type": "stream",
     "text": [
      "C:\\Users\\jmccall\\AppData\\Local\\Temp\\ipykernel_4568\\315371104.py:1: SettingWithCopyWarning: \n",
      "A value is trying to be set on a copy of a slice from a DataFrame.\n",
      "Try using .loc[row_indexer,col_indexer] = value instead\n",
      "\n",
      "See the caveats in the documentation: https://pandas.pydata.org/pandas-docs/stable/user_guide/indexing.html#returning-a-view-versus-a-copy\n",
      "  rr['Ownership'] = 'Private'\n"
     ]
    }
   ],
   "source": [
    "rr['Ownership'] = 'Private'"
   ]
  },
  {
   "cell_type": "code",
   "execution_count": 24,
   "id": "a98691f2",
   "metadata": {},
   "outputs": [
    {
     "data": {
      "text/html": [
       "<div>\n",
       "<style scoped>\n",
       "    .dataframe tbody tr th:only-of-type {\n",
       "        vertical-align: middle;\n",
       "    }\n",
       "\n",
       "    .dataframe tbody tr th {\n",
       "        vertical-align: top;\n",
       "    }\n",
       "\n",
       "    .dataframe thead th {\n",
       "        text-align: right;\n",
       "    }\n",
       "</style>\n",
       "<table border=\"1\" class=\"dataframe\">\n",
       "  <thead>\n",
       "    <tr style=\"text-align: right;\">\n",
       "      <th></th>\n",
       "      <th>NAME</th>\n",
       "      <th>Industry</th>\n",
       "      <th>Ownership</th>\n",
       "      <th>Empl</th>\n",
       "    </tr>\n",
       "  </thead>\n",
       "  <tbody>\n",
       "    <tr>\n",
       "      <th>784</th>\n",
       "      <td>Cheatham County, Tennessee</td>\n",
       "      <td>Accommodation and Food Services</td>\n",
       "      <td>Private</td>\n",
       "      <td>0.00</td>\n",
       "    </tr>\n",
       "    <tr>\n",
       "      <th>785</th>\n",
       "      <td>Cheatham County, Tennessee</td>\n",
       "      <td>Administrative and Support and Waste Managemen...</td>\n",
       "      <td>Private</td>\n",
       "      <td>0.00</td>\n",
       "    </tr>\n",
       "  </tbody>\n",
       "</table>\n",
       "</div>"
      ],
      "text/plain": [
       "                           NAME                                           Industry Ownership                 Empl\n",
       "784  Cheatham County, Tennessee                    Accommodation and Food Services   Private                 0.00\n",
       "785  Cheatham County, Tennessee  Administrative and Support and Waste Managemen...   Private                 0.00"
      ]
     },
     "execution_count": 24,
     "metadata": {},
     "output_type": "execute_result"
    }
   ],
   "source": [
    "rr.head(2)"
   ]
  },
  {
   "cell_type": "code",
   "execution_count": 25,
   "id": "06b591dd",
   "metadata": {},
   "outputs": [],
   "source": [
    "private_only = grouped.loc[grouped['Ownership'] == 'Private']\n",
    "non_private = grouped.loc[grouped['Ownership'] != 'Private']"
   ]
  },
  {
   "cell_type": "code",
   "execution_count": 26,
   "id": "c6e11e9f",
   "metadata": {},
   "outputs": [
    {
     "data": {
      "text/html": [
       "<div>\n",
       "<style scoped>\n",
       "    .dataframe tbody tr th:only-of-type {\n",
       "        vertical-align: middle;\n",
       "    }\n",
       "\n",
       "    .dataframe tbody tr th {\n",
       "        vertical-align: top;\n",
       "    }\n",
       "\n",
       "    .dataframe thead th {\n",
       "        text-align: right;\n",
       "    }\n",
       "</style>\n",
       "<table border=\"1\" class=\"dataframe\">\n",
       "  <thead>\n",
       "    <tr style=\"text-align: right;\">\n",
       "      <th></th>\n",
       "      <th>Industry</th>\n",
       "      <th>Ownership</th>\n",
       "      <th>NAME</th>\n",
       "      <th>Empl</th>\n",
       "    </tr>\n",
       "  </thead>\n",
       "  <tbody>\n",
       "    <tr>\n",
       "      <th>0</th>\n",
       "      <td>Total - All Industries</td>\n",
       "      <td>Federal Government</td>\n",
       "      <td>Cheatham County, Tennessee</td>\n",
       "      <td>78.18</td>\n",
       "    </tr>\n",
       "    <tr>\n",
       "      <th>1</th>\n",
       "      <td>Total - All Industries</td>\n",
       "      <td>State Government</td>\n",
       "      <td>Cheatham County, Tennessee</td>\n",
       "      <td>76.42</td>\n",
       "    </tr>\n",
       "    <tr>\n",
       "      <th>2</th>\n",
       "      <td>Total - All Industries</td>\n",
       "      <td>Local Government</td>\n",
       "      <td>Cheatham County, Tennessee</td>\n",
       "      <td>1,413.97</td>\n",
       "    </tr>\n",
       "    <tr>\n",
       "      <th>4</th>\n",
       "      <td>Total - All Industries</td>\n",
       "      <td>Self-Employment</td>\n",
       "      <td>Cheatham County, Tennessee</td>\n",
       "      <td>1,562.27</td>\n",
       "    </tr>\n",
       "    <tr>\n",
       "      <th>5</th>\n",
       "      <td>Crop Production</td>\n",
       "      <td>Federal Government</td>\n",
       "      <td>Cheatham County, Tennessee</td>\n",
       "      <td>0.00</td>\n",
       "    </tr>\n",
       "  </tbody>\n",
       "</table>\n",
       "</div>"
      ],
      "text/plain": [
       "                 Industry           Ownership                        NAME                 Empl\n",
       "0  Total - All Industries  Federal Government  Cheatham County, Tennessee                78.18\n",
       "1  Total - All Industries    State Government  Cheatham County, Tennessee                76.42\n",
       "2  Total - All Industries    Local Government  Cheatham County, Tennessee             1,413.97\n",
       "4  Total - All Industries     Self-Employment  Cheatham County, Tennessee             1,562.27\n",
       "5         Crop Production  Federal Government  Cheatham County, Tennessee                 0.00"
      ]
     },
     "execution_count": 26,
     "metadata": {},
     "output_type": "execute_result"
    }
   ],
   "source": [
    "non_private.head()"
   ]
  },
  {
   "cell_type": "code",
   "execution_count": 27,
   "id": "cfc0c535",
   "metadata": {},
   "outputs": [],
   "source": [
    "temp_private = rr.merge(private_only, on = ['NAME', 'Industry', 'Ownership'])"
   ]
  },
  {
   "cell_type": "code",
   "execution_count": 28,
   "id": "40c97467",
   "metadata": {},
   "outputs": [],
   "source": [
    "temp_private['Empl'] = temp_private['Empl_x'] + temp_private['Empl_y']\n",
    "temp_private = temp_private.drop(columns = ['Empl_x', 'Empl_y'])"
   ]
  },
  {
   "cell_type": "code",
   "execution_count": 29,
   "id": "e0b2036f",
   "metadata": {},
   "outputs": [
    {
     "data": {
      "text/html": [
       "<div>\n",
       "<style scoped>\n",
       "    .dataframe tbody tr th:only-of-type {\n",
       "        vertical-align: middle;\n",
       "    }\n",
       "\n",
       "    .dataframe tbody tr th {\n",
       "        vertical-align: top;\n",
       "    }\n",
       "\n",
       "    .dataframe thead th {\n",
       "        text-align: right;\n",
       "    }\n",
       "</style>\n",
       "<table border=\"1\" class=\"dataframe\">\n",
       "  <thead>\n",
       "    <tr style=\"text-align: right;\">\n",
       "      <th></th>\n",
       "      <th>NAME</th>\n",
       "      <th>Industry</th>\n",
       "      <th>Ownership</th>\n",
       "      <th>Empl</th>\n",
       "    </tr>\n",
       "  </thead>\n",
       "  <tbody>\n",
       "    <tr>\n",
       "      <th>0</th>\n",
       "      <td>Cheatham County, Tennessee</td>\n",
       "      <td>Accommodation and Food Services</td>\n",
       "      <td>Private</td>\n",
       "      <td>865.62</td>\n",
       "    </tr>\n",
       "    <tr>\n",
       "      <th>1</th>\n",
       "      <td>Cheatham County, Tennessee</td>\n",
       "      <td>Administrative and Support and Waste Managemen...</td>\n",
       "      <td>Private</td>\n",
       "      <td>219.18</td>\n",
       "    </tr>\n",
       "    <tr>\n",
       "      <th>2</th>\n",
       "      <td>Cheatham County, Tennessee</td>\n",
       "      <td>Animal Production and Aquaculture</td>\n",
       "      <td>Private</td>\n",
       "      <td>4.80</td>\n",
       "    </tr>\n",
       "    <tr>\n",
       "      <th>3</th>\n",
       "      <td>Cheatham County, Tennessee</td>\n",
       "      <td>Arts, Entertainment, and Recreation</td>\n",
       "      <td>Private</td>\n",
       "      <td>143.45</td>\n",
       "    </tr>\n",
       "    <tr>\n",
       "      <th>4</th>\n",
       "      <td>Cheatham County, Tennessee</td>\n",
       "      <td>Construction</td>\n",
       "      <td>Private</td>\n",
       "      <td>801.15</td>\n",
       "    </tr>\n",
       "  </tbody>\n",
       "</table>\n",
       "</div>"
      ],
      "text/plain": [
       "                         NAME                                           Industry Ownership                 Empl\n",
       "0  Cheatham County, Tennessee                    Accommodation and Food Services   Private               865.62\n",
       "1  Cheatham County, Tennessee  Administrative and Support and Waste Managemen...   Private               219.18\n",
       "2  Cheatham County, Tennessee                  Animal Production and Aquaculture   Private                 4.80\n",
       "3  Cheatham County, Tennessee                Arts, Entertainment, and Recreation   Private               143.45\n",
       "4  Cheatham County, Tennessee                                       Construction   Private               801.15"
      ]
     },
     "execution_count": 29,
     "metadata": {},
     "output_type": "execute_result"
    }
   ],
   "source": [
    "temp_private.head()"
   ]
  },
  {
   "cell_type": "code",
   "execution_count": 30,
   "id": "f11feecf",
   "metadata": {},
   "outputs": [],
   "source": [
    "final = pd.concat([temp_private, non_private, totals])"
   ]
  },
  {
   "cell_type": "code",
   "execution_count": 31,
   "id": "656e3d50",
   "metadata": {},
   "outputs": [
    {
     "data": {
      "text/html": [
       "<div>\n",
       "<style scoped>\n",
       "    .dataframe tbody tr th:only-of-type {\n",
       "        vertical-align: middle;\n",
       "    }\n",
       "\n",
       "    .dataframe tbody tr th {\n",
       "        vertical-align: top;\n",
       "    }\n",
       "\n",
       "    .dataframe thead th {\n",
       "        text-align: right;\n",
       "    }\n",
       "</style>\n",
       "<table border=\"1\" class=\"dataframe\">\n",
       "  <thead>\n",
       "    <tr style=\"text-align: right;\">\n",
       "      <th></th>\n",
       "      <th>NAME</th>\n",
       "      <th>Industry</th>\n",
       "      <th>Ownership</th>\n",
       "      <th>Empl</th>\n",
       "    </tr>\n",
       "  </thead>\n",
       "  <tbody>\n",
       "    <tr>\n",
       "      <th>387</th>\n",
       "      <td>Wilson County, Tennessee</td>\n",
       "      <td>Arts, Entertainment, and Recreation</td>\n",
       "      <td>Total Employment</td>\n",
       "      <td>723.06</td>\n",
       "    </tr>\n",
       "    <tr>\n",
       "      <th>388</th>\n",
       "      <td>Wilson County, Tennessee</td>\n",
       "      <td>Accommodation and Food Services</td>\n",
       "      <td>Total Employment</td>\n",
       "      <td>6,406.05</td>\n",
       "    </tr>\n",
       "    <tr>\n",
       "      <th>389</th>\n",
       "      <td>Wilson County, Tennessee</td>\n",
       "      <td>Other Services (except Public Administration)</td>\n",
       "      <td>Total Employment</td>\n",
       "      <td>3,164.97</td>\n",
       "    </tr>\n",
       "    <tr>\n",
       "      <th>390</th>\n",
       "      <td>Wilson County, Tennessee</td>\n",
       "      <td>Public Administration</td>\n",
       "      <td>Total Employment</td>\n",
       "      <td>1,961.44</td>\n",
       "    </tr>\n",
       "    <tr>\n",
       "      <th>391</th>\n",
       "      <td>Wilson County, Tennessee</td>\n",
       "      <td>Unclassified</td>\n",
       "      <td>Total Employment</td>\n",
       "      <td>40.10</td>\n",
       "    </tr>\n",
       "  </tbody>\n",
       "</table>\n",
       "</div>"
      ],
      "text/plain": [
       "                         NAME                                       Industry         Ownership                 Empl\n",
       "387  Wilson County, Tennessee            Arts, Entertainment, and Recreation  Total Employment               723.06\n",
       "388  Wilson County, Tennessee                Accommodation and Food Services  Total Employment             6,406.05\n",
       "389  Wilson County, Tennessee  Other Services (except Public Administration)  Total Employment             3,164.97\n",
       "390  Wilson County, Tennessee                          Public Administration  Total Employment             1,961.44\n",
       "391  Wilson County, Tennessee                                   Unclassified  Total Employment                40.10"
      ]
     },
     "execution_count": 31,
     "metadata": {},
     "output_type": "execute_result"
    }
   ],
   "source": [
    "final.tail()"
   ]
  },
  {
   "cell_type": "code",
   "execution_count": 32,
   "id": "b3a9b7e5",
   "metadata": {},
   "outputs": [
    {
     "data": {
      "text/plain": [
       "array(['Private', 'Federal Government', 'State Government',\n",
       "       'Local Government', 'Self-Employment', 'Total Employment'],\n",
       "      dtype=object)"
      ]
     },
     "execution_count": 32,
     "metadata": {},
     "output_type": "execute_result"
    }
   ],
   "source": [
    "final['Ownership'].unique()"
   ]
  },
  {
   "cell_type": "code",
   "execution_count": 33,
   "id": "e2e974f4",
   "metadata": {},
   "outputs": [],
   "source": [
    "data = final"
   ]
  },
  {
   "cell_type": "code",
   "execution_count": 34,
   "id": "b277b545",
   "metadata": {},
   "outputs": [],
   "source": [
    "#group federal state and local government ownership as \"all government ownership\"\n",
    "thelist = ['Federal Government', 'State Government', 'Local Government']\n",
    "government = data.loc[data['Ownership'].isin(thelist)]\n",
    "data = data.loc[~data['Ownership'].isin(thelist)]\n",
    "#group agricultural industries as farm\n",
    "thelist = ['Crop Production', 'Animal Production and Aquaculture', 'Support Activities for Crop Production', 'Support Activities for Animal Production', \n",
    "          'Forestry and Logging', 'Fishing, Hunting and Trapping', 'Support Activities for Forestry']\n",
    "eleven = data.loc[data['Industry'].isin(thelist)]\n",
    "data = data.loc[~data['Industry'].isin(thelist)]"
   ]
  },
  {
   "cell_type": "code",
   "execution_count": 35,
   "id": "106af523",
   "metadata": {},
   "outputs": [],
   "source": [
    "# #group agricultural industries as farm\n",
    "# thelist = ['Crop Production', 'Animal Production and Aquaculture', 'Support Activities for Crop Production', 'Support Activities for Animal Production']\n",
    "# farm = data.loc[data['Industry'].isin(thelist)]\n",
    "# data = data.loc[~data['Industry'].isin(thelist)]\n",
    "# #group forestry fishing hunting and trapping industries as one\n",
    "# thelist = ['Forestry and Logging', 'Fishing, Hunting and Trapping', 'Support Activities for Forestry']\n",
    "# forestry = data.loc[data['Industry'].isin(thelist)]\n",
    "# data = data.loc[~data['Industry'].isin(thelist)]"
   ]
  },
  {
   "cell_type": "code",
   "execution_count": 36,
   "id": "7b88fd78",
   "metadata": {},
   "outputs": [
    {
     "data": {
      "text/plain": [
       "array(['Private', 'Self-Employment', 'Total Employment'], dtype=object)"
      ]
     },
     "execution_count": 36,
     "metadata": {},
     "output_type": "execute_result"
    }
   ],
   "source": [
    "data['Ownership'].unique()"
   ]
  },
  {
   "cell_type": "code",
   "execution_count": 37,
   "id": "fe452ccf",
   "metadata": {},
   "outputs": [],
   "source": [
    "government = government.groupby(['NAME', 'Industry']).agg({'Empl': 'sum'}).reset_index()\n",
    "government['Ownership'] = 'Government'\n",
    "eleven = eleven.groupby(['NAME', 'Ownership']).agg({'Empl': 'sum'}).reset_index()\n",
    "eleven['Industry'] = 'Agriculture, forestry, fishing and hunting'"
   ]
  },
  {
   "cell_type": "code",
   "execution_count": 38,
   "id": "146125bc",
   "metadata": {},
   "outputs": [],
   "source": [
    "# farm = farm.groupby(['NAME', 'Ownership']).agg({'Empl': 'sum'}).reset_index()\n",
    "# farm['Industry'] = 'Farm employment'\n",
    "# forestry = forestry.groupby(['NAME', 'Ownership']).agg({'Empl': 'sum'}).reset_index()\n",
    "# forestry['Industry'] = 'Forestry, fishing, and related activities'"
   ]
  },
  {
   "cell_type": "code",
   "execution_count": 39,
   "id": "3e2b8089",
   "metadata": {},
   "outputs": [],
   "source": [
    "data = pd.concat([data, government, eleven])"
   ]
  },
  {
   "cell_type": "code",
   "execution_count": 40,
   "id": "81542c08",
   "metadata": {},
   "outputs": [],
   "source": [
    "# data = pd.concat([data, government, farm, forestry])"
   ]
  },
  {
   "cell_type": "code",
   "execution_count": 41,
   "id": "adedafa3",
   "metadata": {},
   "outputs": [
    {
     "data": {
      "text/html": [
       "<div>\n",
       "<style scoped>\n",
       "    .dataframe tbody tr th:only-of-type {\n",
       "        vertical-align: middle;\n",
       "    }\n",
       "\n",
       "    .dataframe tbody tr th {\n",
       "        vertical-align: top;\n",
       "    }\n",
       "\n",
       "    .dataframe thead th {\n",
       "        text-align: right;\n",
       "    }\n",
       "</style>\n",
       "<table border=\"1\" class=\"dataframe\">\n",
       "  <thead>\n",
       "    <tr style=\"text-align: right;\">\n",
       "      <th></th>\n",
       "      <th>NAME</th>\n",
       "      <th>Industry</th>\n",
       "      <th>Ownership</th>\n",
       "      <th>Empl</th>\n",
       "    </tr>\n",
       "  </thead>\n",
       "  <tbody>\n",
       "    <tr>\n",
       "      <th>0</th>\n",
       "      <td>Cheatham County, Tennessee</td>\n",
       "      <td>Accommodation and Food Services</td>\n",
       "      <td>Private</td>\n",
       "      <td>865.62</td>\n",
       "    </tr>\n",
       "    <tr>\n",
       "      <th>1</th>\n",
       "      <td>Cheatham County, Tennessee</td>\n",
       "      <td>Administrative and Support and Waste Managemen...</td>\n",
       "      <td>Private</td>\n",
       "      <td>219.18</td>\n",
       "    </tr>\n",
       "    <tr>\n",
       "      <th>3</th>\n",
       "      <td>Cheatham County, Tennessee</td>\n",
       "      <td>Arts, Entertainment, and Recreation</td>\n",
       "      <td>Private</td>\n",
       "      <td>143.45</td>\n",
       "    </tr>\n",
       "    <tr>\n",
       "      <th>4</th>\n",
       "      <td>Cheatham County, Tennessee</td>\n",
       "      <td>Construction</td>\n",
       "      <td>Private</td>\n",
       "      <td>801.15</td>\n",
       "    </tr>\n",
       "    <tr>\n",
       "      <th>6</th>\n",
       "      <td>Cheatham County, Tennessee</td>\n",
       "      <td>Educational Services</td>\n",
       "      <td>Private</td>\n",
       "      <td>33.58</td>\n",
       "    </tr>\n",
       "  </tbody>\n",
       "</table>\n",
       "</div>"
      ],
      "text/plain": [
       "                         NAME                                           Industry Ownership                 Empl\n",
       "0  Cheatham County, Tennessee                    Accommodation and Food Services   Private               865.62\n",
       "1  Cheatham County, Tennessee  Administrative and Support and Waste Managemen...   Private               219.18\n",
       "3  Cheatham County, Tennessee                Arts, Entertainment, and Recreation   Private               143.45\n",
       "4  Cheatham County, Tennessee                                       Construction   Private               801.15\n",
       "6  Cheatham County, Tennessee                               Educational Services   Private                33.58"
      ]
     },
     "execution_count": 41,
     "metadata": {},
     "output_type": "execute_result"
    }
   ],
   "source": [
    "data.head()"
   ]
  },
  {
   "cell_type": "code",
   "execution_count": 42,
   "id": "ebdcab63",
   "metadata": {},
   "outputs": [
    {
     "data": {
      "text/plain": [
       "array(['Private', 'Self-Employment', 'Total Employment', 'Government'],\n",
       "      dtype=object)"
      ]
     },
     "execution_count": 42,
     "metadata": {},
     "output_type": "execute_result"
    }
   ],
   "source": [
    "data['Ownership'].unique()"
   ]
  },
  {
   "cell_type": "code",
   "execution_count": 43,
   "id": "6c857269",
   "metadata": {},
   "outputs": [],
   "source": [
    "thelist = ['Animal Production and Aquaculture', 'Crop Production',\n",
    "           'Fishing, Hunting and Trapping', 'Forestry and Logging', 'Support Activities for Animal Production',\n",
    "           'Support Activities for Crop Production', 'Support Activities for Forestry', 'Unclassified', 'Public Administration']\n",
    "data = data.loc[~data['Industry'].isin(thelist)]"
   ]
  },
  {
   "cell_type": "code",
   "execution_count": 44,
   "id": "d2c60b11",
   "metadata": {},
   "outputs": [
    {
     "data": {
      "text/plain": [
       "array(['Private', 'Self-Employment', 'Total Employment', 'Government'],\n",
       "      dtype=object)"
      ]
     },
     "execution_count": 44,
     "metadata": {},
     "output_type": "execute_result"
    }
   ],
   "source": [
    "data['Ownership'].unique()"
   ]
  },
  {
   "cell_type": "code",
   "execution_count": 45,
   "id": "3c0c0575",
   "metadata": {},
   "outputs": [],
   "source": [
    "pivot_df = data.pivot_table(index=['NAME', 'Industry'], columns='Ownership', values='Empl', aggfunc='sum')\n",
    "pivot_df.reset_index(inplace=True)"
   ]
  },
  {
   "cell_type": "code",
   "execution_count": 46,
   "id": "c8300cad",
   "metadata": {},
   "outputs": [
    {
     "data": {
      "text/html": [
       "<div>\n",
       "<style scoped>\n",
       "    .dataframe tbody tr th:only-of-type {\n",
       "        vertical-align: middle;\n",
       "    }\n",
       "\n",
       "    .dataframe tbody tr th {\n",
       "        vertical-align: top;\n",
       "    }\n",
       "\n",
       "    .dataframe thead th {\n",
       "        text-align: right;\n",
       "    }\n",
       "</style>\n",
       "<table border=\"1\" class=\"dataframe\">\n",
       "  <thead>\n",
       "    <tr style=\"text-align: right;\">\n",
       "      <th>Ownership</th>\n",
       "      <th>NAME</th>\n",
       "      <th>Industry</th>\n",
       "      <th>Government</th>\n",
       "      <th>Private</th>\n",
       "      <th>Self-Employment</th>\n",
       "      <th>Total Employment</th>\n",
       "    </tr>\n",
       "  </thead>\n",
       "  <tbody>\n",
       "    <tr>\n",
       "      <th>0</th>\n",
       "      <td>Cheatham County, Tennessee</td>\n",
       "      <td>Accommodation and Food Services</td>\n",
       "      <td>75.46</td>\n",
       "      <td>865.62</td>\n",
       "      <td>26.58</td>\n",
       "      <td>967.66</td>\n",
       "    </tr>\n",
       "    <tr>\n",
       "      <th>1</th>\n",
       "      <td>Cheatham County, Tennessee</td>\n",
       "      <td>Administrative and Support and Waste Managemen...</td>\n",
       "      <td>20.28</td>\n",
       "      <td>219.18</td>\n",
       "      <td>175.61</td>\n",
       "      <td>415.08</td>\n",
       "    </tr>\n",
       "    <tr>\n",
       "      <th>2</th>\n",
       "      <td>Cheatham County, Tennessee</td>\n",
       "      <td>Agriculture, forestry, fishing and hunting</td>\n",
       "      <td>NaN</td>\n",
       "      <td>10.10</td>\n",
       "      <td>161.39</td>\n",
       "      <td>171.48</td>\n",
       "    </tr>\n",
       "    <tr>\n",
       "      <th>3</th>\n",
       "      <td>Cheatham County, Tennessee</td>\n",
       "      <td>Arts, Entertainment, and Recreation</td>\n",
       "      <td>0.00</td>\n",
       "      <td>143.45</td>\n",
       "      <td>105.90</td>\n",
       "      <td>249.35</td>\n",
       "    </tr>\n",
       "    <tr>\n",
       "      <th>4</th>\n",
       "      <td>Cheatham County, Tennessee</td>\n",
       "      <td>Construction</td>\n",
       "      <td>35.09</td>\n",
       "      <td>801.15</td>\n",
       "      <td>440.57</td>\n",
       "      <td>1,276.81</td>\n",
       "    </tr>\n",
       "  </tbody>\n",
       "</table>\n",
       "</div>"
      ],
      "text/plain": [
       "Ownership                        NAME                                           Industry           Government              Private  \\\n",
       "0          Cheatham County, Tennessee                    Accommodation and Food Services                75.46               865.62   \n",
       "1          Cheatham County, Tennessee  Administrative and Support and Waste Managemen...                20.28               219.18   \n",
       "2          Cheatham County, Tennessee         Agriculture, forestry, fishing and hunting                  NaN                10.10   \n",
       "3          Cheatham County, Tennessee                Arts, Entertainment, and Recreation                 0.00               143.45   \n",
       "4          Cheatham County, Tennessee                                       Construction                35.09               801.15   \n",
       "\n",
       "Ownership      Self-Employment     Total Employment  \n",
       "0                        26.58               967.66  \n",
       "1                       175.61               415.08  \n",
       "2                       161.39               171.48  \n",
       "3                       105.90               249.35  \n",
       "4                       440.57             1,276.81  "
      ]
     },
     "execution_count": 46,
     "metadata": {},
     "output_type": "execute_result"
    }
   ],
   "source": [
    "pivot_df.head()"
   ]
  },
  {
   "cell_type": "code",
   "execution_count": 47,
   "id": "b0ab7c50",
   "metadata": {},
   "outputs": [],
   "source": [
    "# Calculate the \"Share of Total Employment\" for Private, Self-Employment, and Government\n",
    "for ownership_type in ['Private', 'Self-Employment', 'Government']:\n",
    "    column_name = f'Share of {ownership_type}'\n",
    "    pivot_df[column_name] = (pivot_df[ownership_type] / pivot_df['Total Employment']) * 100\n"
   ]
  },
  {
   "cell_type": "code",
   "execution_count": 48,
   "id": "c81aefbf",
   "metadata": {},
   "outputs": [],
   "source": [
    "#pivot_df['NAICS'] = pivot_df['Industry'].map(indnaics)"
   ]
  },
  {
   "cell_type": "code",
   "execution_count": 49,
   "id": "b27f52ce",
   "metadata": {},
   "outputs": [],
   "source": [
    "data = pivot_df[['NAME', 'Industry', 'Share of Private', 'Share of Self-Employment', 'Share of Government']]"
   ]
  },
  {
   "cell_type": "code",
   "execution_count": 50,
   "id": "f13e1934",
   "metadata": {},
   "outputs": [],
   "source": [
    "data = data.rename(columns = {'Share of Private': 'Share Private', 'Share of Self-Employment': 'Share Self-Employed', \n",
    "                             'Share of Government': 'Share Government'})"
   ]
  },
  {
   "cell_type": "code",
   "execution_count": 51,
   "id": "e0ab2aa0",
   "metadata": {},
   "outputs": [],
   "source": [
    "inddict = {'Total - All Industries': 'Total employment (number of jobs)',    \n",
    "           'Accommodation and Food Services': 'Accommodation and food services',\n",
    "           'Administrative and Support and Waste Management and Remediation Services': 'Administrative and support and waste management and remediation services',\n",
    "           \n",
    "           'Arts, Entertainment, and Recreation': 'Arts, entertainment, and recreation', \n",
    "           'Educational Services': 'Educational services', \n",
    "           'Finance and Insurance': 'Finance and insurance',\n",
    "           'Health Care and Social Assistance': 'Health care and social assistance', \n",
    "           'Management of Companies and Enterprises': 'Management of companies and enterprises', \n",
    "           'Mining, Quarrying, and Oil and Gas Extraction': 'Mining, quarrying, and oil and gas extraction',\n",
    "           'Other Services (except Public Administration)': 'Other services (except government and government enterprises)',\n",
    "           'Professional, Scientific, and Technical Services': 'Professional, scientific, and technical services',\n",
    "           'Real Estate and Rental and Leasing': 'Real estate and rental and leasing',\n",
    "           'Retail Trade': 'Retail trade', \n",
    "           'Transportation and Warehousing': 'Transportation and warehousing', \n",
    "           'Utilities': 'Utilities', \n",
    "           'Wholesale Trade': 'Wholesale trade'}"
   ]
  },
  {
   "cell_type": "code",
   "execution_count": 52,
   "id": "967e5a5f",
   "metadata": {},
   "outputs": [],
   "source": [
    "data['Industry'] = data['Industry'].replace(inddict)"
   ]
  },
  {
   "cell_type": "code",
   "execution_count": 54,
   "id": "6e18a850",
   "metadata": {},
   "outputs": [],
   "source": [
    "data.to_csv('../data/jobseqdistr.csv', index = False)"
   ]
  },
  {
   "cell_type": "code",
   "execution_count": null,
   "id": "7a77df81",
   "metadata": {},
   "outputs": [],
   "source": []
  }
 ],
 "metadata": {
  "kernelspec": {
   "display_name": "Python 3 (ipykernel)",
   "language": "python",
   "name": "python3"
  },
  "language_info": {
   "codemirror_mode": {
    "name": "ipython",
    "version": 3
   },
   "file_extension": ".py",
   "mimetype": "text/x-python",
   "name": "python",
   "nbconvert_exporter": "python",
   "pygments_lexer": "ipython3",
   "version": "3.11.5"
  }
 },
 "nbformat": 4,
 "nbformat_minor": 5
}
