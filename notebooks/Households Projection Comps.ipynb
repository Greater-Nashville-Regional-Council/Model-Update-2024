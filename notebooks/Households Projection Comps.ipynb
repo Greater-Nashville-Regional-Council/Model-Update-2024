{
 "cells": [
  {
   "cell_type": "code",
   "execution_count": 1,
   "id": "79c6b5c7",
   "metadata": {},
   "outputs": [],
   "source": [
    "import pandas as pd\n",
    "import sqlite3 as sq\n",
    "import matplotlib as mpl\n",
    "from matplotlib import rcParams\n",
    "import matplotlib.pyplot as plt\n",
    "import numpy as np"
   ]
  },
  {
   "cell_type": "markdown",
   "id": "b1afb71b",
   "metadata": {},
   "source": [
    "\"The average size of households is defined as total population less group-quarters population divided by the number of households. Mean household income is defined as total personal income less estimated income of group- quarters population divided by the number of households\" (From the W&P 2023 Technical Document)"
   ]
  },
  {
   "cell_type": "code",
   "execution_count": 2,
   "id": "163b281b",
   "metadata": {},
   "outputs": [],
   "source": [
    "conn = sq.connect('../../Data-Pipelines/Outputs/Dem_Transpo_Housing_Collection.db')\n",
    "sql_query = pd.read_sql('SELECT * FROM [WPURBANSIM_PopulationHousehold_CurrentandProjected_Annual_WideFormat_Noreplacement]', conn)\n",
    "initial = pd.DataFrame(sql_query)\n",
    "initial = initial[['NAME', 'Households 2017', 'Households 2020', 'Households 2025', 'Households 2035', 'Households 2045']]\n",
    "thelist = ['Cheatham County, Tennessee', 'Davidson County, Tennessee', 'Dickson County, Tennessee', 'Houston County, Tennessee', \n",
    "           'Humphreys County, Tennessee', 'Maury County, Tennessee', 'Montgomery County, Tennessee', 'Robertson County, Tennessee', \n",
    "           'Rutherford County, Tennessee', 'Stewart County, Tennessee', 'Sumner County, Tennessee', 'Williamson County, Tennessee', \n",
    "           'Wilson County, Tennessee', 'Trousdale County, Tennessee', 'GNRC', 'MPO', 'GNRC Region']\n",
    "initial = initial.loc[initial['NAME'].isin(thelist)].reset_index(drop = True)\n",
    "initial = initial.rename(columns = {'Households 2017': '2017', 'Households 2020': '2020', 'Households 2025': '2025', \n",
    "                                      'Households 2035': '2035', 'Households 2045': '2045'})\n",
    "\n",
    "#first option\n",
    "#initial['Base'] = '2023'\n",
    "# second option\n",
    "initial = initial.melt(id_vars = ['NAME'], var_name = 'Year', value_name = 'Households 2017 Base')"
   ]
  },
  {
   "cell_type": "code",
   "execution_count": 3,
   "id": "9c4b9086",
   "metadata": {},
   "outputs": [
    {
     "data": {
      "text/html": [
       "<div>\n",
       "<style scoped>\n",
       "    .dataframe tbody tr th:only-of-type {\n",
       "        vertical-align: middle;\n",
       "    }\n",
       "\n",
       "    .dataframe tbody tr th {\n",
       "        vertical-align: top;\n",
       "    }\n",
       "\n",
       "    .dataframe thead th {\n",
       "        text-align: right;\n",
       "    }\n",
       "</style>\n",
       "<table border=\"1\" class=\"dataframe\">\n",
       "  <thead>\n",
       "    <tr style=\"text-align: right;\">\n",
       "      <th></th>\n",
       "      <th>NAME</th>\n",
       "      <th>Year</th>\n",
       "      <th>Households 2017 Base</th>\n",
       "    </tr>\n",
       "  </thead>\n",
       "  <tbody>\n",
       "    <tr>\n",
       "      <th>80</th>\n",
       "      <td>Williamson County, Tennessee</td>\n",
       "      <td>2045</td>\n",
       "      <td>196361.0</td>\n",
       "    </tr>\n",
       "    <tr>\n",
       "      <th>81</th>\n",
       "      <td>Wilson County, Tennessee</td>\n",
       "      <td>2045</td>\n",
       "      <td>96057.0</td>\n",
       "    </tr>\n",
       "    <tr>\n",
       "      <th>82</th>\n",
       "      <td>GNRC</td>\n",
       "      <td>2045</td>\n",
       "      <td>1171266.0</td>\n",
       "    </tr>\n",
       "    <tr>\n",
       "      <th>83</th>\n",
       "      <td>GNRC Region</td>\n",
       "      <td>2045</td>\n",
       "      <td>1216853.0</td>\n",
       "    </tr>\n",
       "    <tr>\n",
       "      <th>84</th>\n",
       "      <td>MPO</td>\n",
       "      <td>2045</td>\n",
       "      <td>1014756.0</td>\n",
       "    </tr>\n",
       "  </tbody>\n",
       "</table>\n",
       "</div>"
      ],
      "text/plain": [
       "                            NAME  Year  Households 2017 Base\n",
       "80  Williamson County, Tennessee  2045              196361.0\n",
       "81      Wilson County, Tennessee  2045               96057.0\n",
       "82                          GNRC  2045             1171266.0\n",
       "83                   GNRC Region  2045             1216853.0\n",
       "84                           MPO  2045             1014756.0"
      ]
     },
     "execution_count": 3,
     "metadata": {},
     "output_type": "execute_result"
    }
   ],
   "source": [
    "initial.tail()"
   ]
  },
  {
   "cell_type": "code",
   "execution_count": 4,
   "id": "bcea07e1",
   "metadata": {},
   "outputs": [
    {
     "data": {
      "text/plain": [
       "array(['Cheatham County, Tennessee', 'Davidson County, Tennessee',\n",
       "       'Dickson County, Tennessee', 'Houston County, Tennessee',\n",
       "       'Humphreys County, Tennessee', 'Maury County, Tennessee',\n",
       "       'Montgomery County, Tennessee', 'Robertson County, Tennessee',\n",
       "       'Rutherford County, Tennessee', 'Stewart County, Tennessee',\n",
       "       'Sumner County, Tennessee', 'Trousdale County, Tennessee',\n",
       "       'Williamson County, Tennessee', 'Wilson County, Tennessee', 'GNRC',\n",
       "       'GNRC Region', 'MPO'], dtype=object)"
      ]
     },
     "execution_count": 4,
     "metadata": {},
     "output_type": "execute_result"
    }
   ],
   "source": [
    "initial['NAME'].unique()"
   ]
  },
  {
   "cell_type": "code",
   "execution_count": 5,
   "id": "0167f9e3",
   "metadata": {},
   "outputs": [],
   "source": [
    "conn = sq.connect('../../Data-Pipelines/Outputs/Dem_Transpo_Housing_Collection.db')\n",
    "sql_query = pd.read_sql('SELECT * FROM [WPURBANSIM_PopulationHousehold_CurrentandProjected_Annual_WideFormat_Noreplacement_2023Base]', conn)\n",
    "initial1 = pd.DataFrame(sql_query)\n",
    "initial1 = initial1[['NAME', 'Households 2017', 'Households 2020', 'Households 2025', 'Households 2035', 'Households 2045']]\n",
    "thelist = ['Cheatham County, Tennessee', 'Davidson County, Tennessee', 'Dickson County, Tennessee', 'Houston County, Tennessee', \n",
    "           'Humphreys County, Tennessee', 'Maury County, Tennessee', 'Montgomery County, Tennessee', 'Robertson County, Tennessee', \n",
    "           'Rutherford County, Tennessee', 'Stewart County, Tennessee', 'Sumner County, Tennessee', 'Williamson County, Tennessee', \n",
    "           'Wilson County, Tennessee', 'Trousdale County, Tennessee', 'GNRC', 'MPO', 'GNRC Region']\n",
    "initial1 = initial1.loc[initial1['NAME'].isin(thelist)].reset_index(drop = True)\n",
    "initial1 = initial1.rename(columns = {'Households 2017': '2017', 'Households 2020': '2020', 'Households 2025': '2025', \n",
    "                                      'Households 2035': '2035', 'Households 2045': '2045'})\n",
    "\n",
    "#first option\n",
    "#initial1['Base'] = '2023'\n",
    "# second option\n",
    "initial1 = initial1.melt(id_vars = ['NAME'], var_name = 'Year', value_name = 'Households 2023 Base')"
   ]
  },
  {
   "cell_type": "code",
   "execution_count": 6,
   "id": "a8fc53e3",
   "metadata": {},
   "outputs": [
    {
     "data": {
      "text/html": [
       "<div>\n",
       "<style scoped>\n",
       "    .dataframe tbody tr th:only-of-type {\n",
       "        vertical-align: middle;\n",
       "    }\n",
       "\n",
       "    .dataframe tbody tr th {\n",
       "        vertical-align: top;\n",
       "    }\n",
       "\n",
       "    .dataframe thead th {\n",
       "        text-align: right;\n",
       "    }\n",
       "</style>\n",
       "<table border=\"1\" class=\"dataframe\">\n",
       "  <thead>\n",
       "    <tr style=\"text-align: right;\">\n",
       "      <th></th>\n",
       "      <th>NAME</th>\n",
       "      <th>Year</th>\n",
       "      <th>Households 2023 Base</th>\n",
       "    </tr>\n",
       "  </thead>\n",
       "  <tbody>\n",
       "    <tr>\n",
       "      <th>0</th>\n",
       "      <td>Cheatham County, Tennessee</td>\n",
       "      <td>2017</td>\n",
       "      <td>16002.0</td>\n",
       "    </tr>\n",
       "    <tr>\n",
       "      <th>1</th>\n",
       "      <td>Davidson County, Tennessee</td>\n",
       "      <td>2017</td>\n",
       "      <td>292104.0</td>\n",
       "    </tr>\n",
       "    <tr>\n",
       "      <th>2</th>\n",
       "      <td>Dickson County, Tennessee</td>\n",
       "      <td>2017</td>\n",
       "      <td>20919.0</td>\n",
       "    </tr>\n",
       "    <tr>\n",
       "      <th>3</th>\n",
       "      <td>Houston County, Tennessee</td>\n",
       "      <td>2017</td>\n",
       "      <td>3515.0</td>\n",
       "    </tr>\n",
       "    <tr>\n",
       "      <th>4</th>\n",
       "      <td>Humphreys County, Tennessee</td>\n",
       "      <td>2017</td>\n",
       "      <td>7951.0</td>\n",
       "    </tr>\n",
       "  </tbody>\n",
       "</table>\n",
       "</div>"
      ],
      "text/plain": [
       "                          NAME  Year  Households 2023 Base\n",
       "0   Cheatham County, Tennessee  2017               16002.0\n",
       "1   Davidson County, Tennessee  2017              292104.0\n",
       "2    Dickson County, Tennessee  2017               20919.0\n",
       "3    Houston County, Tennessee  2017                3515.0\n",
       "4  Humphreys County, Tennessee  2017                7951.0"
      ]
     },
     "execution_count": 6,
     "metadata": {},
     "output_type": "execute_result"
    }
   ],
   "source": [
    "initial1.head()"
   ]
  },
  {
   "cell_type": "code",
   "execution_count": 7,
   "id": "840d6c79",
   "metadata": {},
   "outputs": [],
   "source": [
    "data = initial.merge(initial1, on = ['NAME', 'Year'], how = 'outer')"
   ]
  },
  {
   "cell_type": "code",
   "execution_count": 8,
   "id": "d45ba449",
   "metadata": {},
   "outputs": [
    {
     "data": {
      "text/html": [
       "<div>\n",
       "<style scoped>\n",
       "    .dataframe tbody tr th:only-of-type {\n",
       "        vertical-align: middle;\n",
       "    }\n",
       "\n",
       "    .dataframe tbody tr th {\n",
       "        vertical-align: top;\n",
       "    }\n",
       "\n",
       "    .dataframe thead th {\n",
       "        text-align: right;\n",
       "    }\n",
       "</style>\n",
       "<table border=\"1\" class=\"dataframe\">\n",
       "  <thead>\n",
       "    <tr style=\"text-align: right;\">\n",
       "      <th></th>\n",
       "      <th>NAME</th>\n",
       "      <th>Year</th>\n",
       "      <th>Households 2017 Base</th>\n",
       "      <th>Households 2023 Base</th>\n",
       "    </tr>\n",
       "  </thead>\n",
       "  <tbody>\n",
       "    <tr>\n",
       "      <th>0</th>\n",
       "      <td>Cheatham County, Tennessee</td>\n",
       "      <td>2017</td>\n",
       "      <td>16345.0</td>\n",
       "      <td>16002.0</td>\n",
       "    </tr>\n",
       "    <tr>\n",
       "      <th>1</th>\n",
       "      <td>Davidson County, Tennessee</td>\n",
       "      <td>2017</td>\n",
       "      <td>285326.0</td>\n",
       "      <td>292104.0</td>\n",
       "    </tr>\n",
       "    <tr>\n",
       "      <th>2</th>\n",
       "      <td>Dickson County, Tennessee</td>\n",
       "      <td>2017</td>\n",
       "      <td>21352.0</td>\n",
       "      <td>20919.0</td>\n",
       "    </tr>\n",
       "    <tr>\n",
       "      <th>3</th>\n",
       "      <td>Houston County, Tennessee</td>\n",
       "      <td>2017</td>\n",
       "      <td>3591.0</td>\n",
       "      <td>3515.0</td>\n",
       "    </tr>\n",
       "    <tr>\n",
       "      <th>4</th>\n",
       "      <td>Humphreys County, Tennessee</td>\n",
       "      <td>2017</td>\n",
       "      <td>7884.0</td>\n",
       "      <td>7951.0</td>\n",
       "    </tr>\n",
       "  </tbody>\n",
       "</table>\n",
       "</div>"
      ],
      "text/plain": [
       "                          NAME  Year  Households 2017 Base  \\\n",
       "0   Cheatham County, Tennessee  2017               16345.0   \n",
       "1   Davidson County, Tennessee  2017              285326.0   \n",
       "2    Dickson County, Tennessee  2017               21352.0   \n",
       "3    Houston County, Tennessee  2017                3591.0   \n",
       "4  Humphreys County, Tennessee  2017                7884.0   \n",
       "\n",
       "   Households 2023 Base  \n",
       "0               16002.0  \n",
       "1              292104.0  \n",
       "2               20919.0  \n",
       "3                3515.0  \n",
       "4                7951.0  "
      ]
     },
     "execution_count": 8,
     "metadata": {},
     "output_type": "execute_result"
    }
   ],
   "source": [
    "data.head()"
   ]
  },
  {
   "cell_type": "code",
   "execution_count": 9,
   "id": "1d2e2bb8",
   "metadata": {},
   "outputs": [],
   "source": [
    "data['Difference 2023-2017 Base'] = data['Households 2023 Base'] - data['Households 2017 Base']\n",
    "data['Difference % 2023-2017 Base'] = ((data['Households 2023 Base'] - data['Households 2017 Base'])/data['Households 2017 Base'])*100"
   ]
  },
  {
   "cell_type": "code",
   "execution_count": 10,
   "id": "969250d9",
   "metadata": {},
   "outputs": [
    {
     "data": {
      "text/html": [
       "<div>\n",
       "<style scoped>\n",
       "    .dataframe tbody tr th:only-of-type {\n",
       "        vertical-align: middle;\n",
       "    }\n",
       "\n",
       "    .dataframe tbody tr th {\n",
       "        vertical-align: top;\n",
       "    }\n",
       "\n",
       "    .dataframe thead th {\n",
       "        text-align: right;\n",
       "    }\n",
       "</style>\n",
       "<table border=\"1\" class=\"dataframe\">\n",
       "  <thead>\n",
       "    <tr style=\"text-align: right;\">\n",
       "      <th></th>\n",
       "      <th>NAME</th>\n",
       "      <th>Year</th>\n",
       "      <th>Households 2017 Base</th>\n",
       "      <th>Households 2023 Base</th>\n",
       "      <th>Difference 2023-2017 Base</th>\n",
       "      <th>Difference % 2023-2017 Base</th>\n",
       "    </tr>\n",
       "  </thead>\n",
       "  <tbody>\n",
       "    <tr>\n",
       "      <th>80</th>\n",
       "      <td>Williamson County, Tennessee</td>\n",
       "      <td>2045</td>\n",
       "      <td>196361.0</td>\n",
       "      <td>166468.0</td>\n",
       "      <td>-29893.0</td>\n",
       "      <td>-15.223491</td>\n",
       "    </tr>\n",
       "    <tr>\n",
       "      <th>81</th>\n",
       "      <td>Wilson County, Tennessee</td>\n",
       "      <td>2045</td>\n",
       "      <td>96057.0</td>\n",
       "      <td>85752.0</td>\n",
       "      <td>-10305.0</td>\n",
       "      <td>-10.728005</td>\n",
       "    </tr>\n",
       "    <tr>\n",
       "      <th>82</th>\n",
       "      <td>GNRC</td>\n",
       "      <td>2045</td>\n",
       "      <td>1171266.0</td>\n",
       "      <td>1128307.0</td>\n",
       "      <td>-42959.0</td>\n",
       "      <td>-3.667741</td>\n",
       "    </tr>\n",
       "    <tr>\n",
       "      <th>83</th>\n",
       "      <td>GNRC Region</td>\n",
       "      <td>2045</td>\n",
       "      <td>1216853.0</td>\n",
       "      <td>1179141.0</td>\n",
       "      <td>-37712.0</td>\n",
       "      <td>-3.099142</td>\n",
       "    </tr>\n",
       "    <tr>\n",
       "      <th>84</th>\n",
       "      <td>MPO</td>\n",
       "      <td>2045</td>\n",
       "      <td>1014756.0</td>\n",
       "      <td>985492.0</td>\n",
       "      <td>-29264.0</td>\n",
       "      <td>-2.883846</td>\n",
       "    </tr>\n",
       "  </tbody>\n",
       "</table>\n",
       "</div>"
      ],
      "text/plain": [
       "                            NAME  Year  Households 2017 Base  \\\n",
       "80  Williamson County, Tennessee  2045              196361.0   \n",
       "81      Wilson County, Tennessee  2045               96057.0   \n",
       "82                          GNRC  2045             1171266.0   \n",
       "83                   GNRC Region  2045             1216853.0   \n",
       "84                           MPO  2045             1014756.0   \n",
       "\n",
       "    Households 2023 Base  Difference 2023-2017 Base  \\\n",
       "80              166468.0                   -29893.0   \n",
       "81               85752.0                   -10305.0   \n",
       "82             1128307.0                   -42959.0   \n",
       "83             1179141.0                   -37712.0   \n",
       "84              985492.0                   -29264.0   \n",
       "\n",
       "    Difference % 2023-2017 Base  \n",
       "80                   -15.223491  \n",
       "81                   -10.728005  \n",
       "82                    -3.667741  \n",
       "83                    -3.099142  \n",
       "84                    -2.883846  "
      ]
     },
     "execution_count": 10,
     "metadata": {},
     "output_type": "execute_result"
    }
   ],
   "source": [
    "data.tail()"
   ]
  },
  {
   "cell_type": "code",
   "execution_count": 11,
   "id": "9ed9a453",
   "metadata": {},
   "outputs": [
    {
     "data": {
      "text/plain": [
       "array(['2017', '2020', '2025', '2035', '2045'], dtype=object)"
      ]
     },
     "execution_count": 11,
     "metadata": {},
     "output_type": "execute_result"
    }
   ],
   "source": [
    "data['Year'].unique()"
   ]
  },
  {
   "cell_type": "code",
   "execution_count": 12,
   "id": "487c6a23",
   "metadata": {},
   "outputs": [],
   "source": [
    "#data = data.loc[(data['NAME'] != 'GNRC')&(data['NAME'] != 'MPO')]\n",
    "#data = data.loc[(data['Year'] == '2045')].reset_index(drop = True)"
   ]
  },
  {
   "cell_type": "code",
   "execution_count": 13,
   "id": "deef3fb5",
   "metadata": {},
   "outputs": [
    {
     "data": {
      "text/plain": [
       "array(['Cheatham County, Tennessee', 'Davidson County, Tennessee',\n",
       "       'Dickson County, Tennessee', 'Houston County, Tennessee',\n",
       "       'Humphreys County, Tennessee', 'Maury County, Tennessee',\n",
       "       'Montgomery County, Tennessee', 'Robertson County, Tennessee',\n",
       "       'Rutherford County, Tennessee', 'Stewart County, Tennessee',\n",
       "       'Sumner County, Tennessee', 'Trousdale County, Tennessee',\n",
       "       'Williamson County, Tennessee', 'Wilson County, Tennessee', 'GNRC',\n",
       "       'GNRC Region', 'MPO'], dtype=object)"
      ]
     },
     "execution_count": 13,
     "metadata": {},
     "output_type": "execute_result"
    }
   ],
   "source": [
    "data['NAME'].unique()"
   ]
  },
  {
   "cell_type": "code",
   "execution_count": 15,
   "id": "d8c2d6a3",
   "metadata": {},
   "outputs": [],
   "source": [
    "data.to_csv('../data/households_projectioncomps.csv', index = False)"
   ]
  },
  {
   "cell_type": "code",
   "execution_count": null,
   "id": "d5d03987",
   "metadata": {},
   "outputs": [],
   "source": []
  }
 ],
 "metadata": {
  "kernelspec": {
   "display_name": "Python 3 (ipykernel)",
   "language": "python",
   "name": "python3"
  },
  "language_info": {
   "codemirror_mode": {
    "name": "ipython",
    "version": 3
   },
   "file_extension": ".py",
   "mimetype": "text/x-python",
   "name": "python",
   "nbconvert_exporter": "python",
   "pygments_lexer": "ipython3",
   "version": "3.11.5"
  }
 },
 "nbformat": 4,
 "nbformat_minor": 5
}
