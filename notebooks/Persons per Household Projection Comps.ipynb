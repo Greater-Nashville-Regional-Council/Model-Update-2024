{
 "cells": [
  {
   "cell_type": "code",
   "execution_count": 1,
   "id": "79c6b5c7",
   "metadata": {},
   "outputs": [],
   "source": [
    "import pandas as pd\n",
    "import sqlite3 as sq\n",
    "import matplotlib as mpl\n",
    "from matplotlib import rcParams\n",
    "import matplotlib.pyplot as plt\n",
    "import numpy as np"
   ]
  },
  {
   "cell_type": "markdown",
   "id": "fe96544f",
   "metadata": {},
   "source": [
    "\"The average size of households is defined as total population less group-quarters population divided by the number of households. Mean household income is defined as total personal income less estimated income of group- quarters population divided by the number of households\" (From the W&P 2023 Technical Document)"
   ]
  },
  {
   "cell_type": "code",
   "execution_count": 2,
   "id": "163b281b",
   "metadata": {},
   "outputs": [],
   "source": [
    "conn = sq.connect('../../Data-Pipelines/Outputs/WoodsandPooleandAffiliated.db')\n",
    "sql_query = pd.read_sql('SELECT * FROM [WPHouseholds_2017Base]', conn)\n",
    "initial = pd.DataFrame(sql_query)\n",
    "initial = initial.loc[initial['Year'] != 'None']\n",
    "initial = initial[['NAME', 'Year', 'personsperhousehold']]\n",
    "thelist = ['Cheatham County, Tennessee', 'Davidson County, Tennessee', 'Dickson County, Tennessee', 'Houston County, Tennessee', \n",
    "           'Humphreys County, Tennessee', 'Maury County, Tennessee', 'Montgomery County, Tennessee', 'Robertson County, Tennessee', \n",
    "           'Rutherford County, Tennessee', 'Stewart County, Tennessee', 'Sumner County, Tennessee', 'Williamson County, Tennessee', \n",
    "           'Wilson County, Tennessee', 'Trousdale County, Tennessee']\n",
    "initial = initial.loc[initial['NAME'].isin(thelist)].reset_index(drop = True)\n",
    "initial = initial.rename(columns = {'personsperhousehold': 'Persons per Household 2017 Base'})"
   ]
  },
  {
   "cell_type": "code",
   "execution_count": 3,
   "id": "9c4b9086",
   "metadata": {},
   "outputs": [
    {
     "data": {
      "text/html": [
       "<div>\n",
       "<style scoped>\n",
       "    .dataframe tbody tr th:only-of-type {\n",
       "        vertical-align: middle;\n",
       "    }\n",
       "\n",
       "    .dataframe tbody tr th {\n",
       "        vertical-align: top;\n",
       "    }\n",
       "\n",
       "    .dataframe thead th {\n",
       "        text-align: right;\n",
       "    }\n",
       "</style>\n",
       "<table border=\"1\" class=\"dataframe\">\n",
       "  <thead>\n",
       "    <tr style=\"text-align: right;\">\n",
       "      <th></th>\n",
       "      <th>NAME</th>\n",
       "      <th>Year</th>\n",
       "      <th>Persons per Household 2017 Base</th>\n",
       "    </tr>\n",
       "  </thead>\n",
       "  <tbody>\n",
       "    <tr>\n",
       "      <th>849</th>\n",
       "      <td>Wilson County, Tennessee</td>\n",
       "      <td>2046</td>\n",
       "      <td>2.66</td>\n",
       "    </tr>\n",
       "    <tr>\n",
       "      <th>850</th>\n",
       "      <td>Wilson County, Tennessee</td>\n",
       "      <td>2047</td>\n",
       "      <td>2.66</td>\n",
       "    </tr>\n",
       "    <tr>\n",
       "      <th>851</th>\n",
       "      <td>Wilson County, Tennessee</td>\n",
       "      <td>2048</td>\n",
       "      <td>2.65</td>\n",
       "    </tr>\n",
       "    <tr>\n",
       "      <th>852</th>\n",
       "      <td>Wilson County, Tennessee</td>\n",
       "      <td>2049</td>\n",
       "      <td>2.65</td>\n",
       "    </tr>\n",
       "    <tr>\n",
       "      <th>853</th>\n",
       "      <td>Wilson County, Tennessee</td>\n",
       "      <td>2050</td>\n",
       "      <td>2.64</td>\n",
       "    </tr>\n",
       "  </tbody>\n",
       "</table>\n",
       "</div>"
      ],
      "text/plain": [
       "                         NAME  Year  Persons per Household 2017 Base\n",
       "849  Wilson County, Tennessee  2046                             2.66\n",
       "850  Wilson County, Tennessee  2047                             2.66\n",
       "851  Wilson County, Tennessee  2048                             2.65\n",
       "852  Wilson County, Tennessee  2049                             2.65\n",
       "853  Wilson County, Tennessee  2050                             2.64"
      ]
     },
     "execution_count": 3,
     "metadata": {},
     "output_type": "execute_result"
    }
   ],
   "source": [
    "initial.tail()"
   ]
  },
  {
   "cell_type": "code",
   "execution_count": 4,
   "id": "bcea07e1",
   "metadata": {},
   "outputs": [
    {
     "data": {
      "text/plain": [
       "array(['Cheatham County, Tennessee', 'Davidson County, Tennessee',\n",
       "       'Dickson County, Tennessee', 'Houston County, Tennessee',\n",
       "       'Humphreys County, Tennessee', 'Maury County, Tennessee',\n",
       "       'Montgomery County, Tennessee', 'Robertson County, Tennessee',\n",
       "       'Rutherford County, Tennessee', 'Stewart County, Tennessee',\n",
       "       'Sumner County, Tennessee', 'Trousdale County, Tennessee',\n",
       "       'Williamson County, Tennessee', 'Wilson County, Tennessee'],\n",
       "      dtype=object)"
      ]
     },
     "execution_count": 4,
     "metadata": {},
     "output_type": "execute_result"
    }
   ],
   "source": [
    "initial['NAME'].unique()"
   ]
  },
  {
   "cell_type": "code",
   "execution_count": 5,
   "id": "0167f9e3",
   "metadata": {},
   "outputs": [],
   "source": [
    "conn = sq.connect('../../Data-Pipelines/Outputs/WoodsandPooleandAffiliated.db')\n",
    "sql_query = pd.read_sql('SELECT * FROM [WPHouseholds_2023Base]', conn)\n",
    "initial1 = pd.DataFrame(sql_query)\n",
    "initial1 = initial1.loc[initial1['Year'] != 'None']\n",
    "initial1 = initial1[['NAME', 'Year', 'personsperhousehold']]\n",
    "thelist = ['Cheatham County, Tennessee', 'Davidson County, Tennessee', 'Dickson County, Tennessee', 'Houston County, Tennessee', \n",
    "           'Humphreys County, Tennessee', 'Maury County, Tennessee', 'Montgomery County, Tennessee', 'Robertson County, Tennessee', \n",
    "           'Rutherford County, Tennessee', 'Stewart County, Tennessee', 'Sumner County, Tennessee', 'Williamson County, Tennessee', \n",
    "           'Wilson County, Tennessee', 'Trousdale County, Tennessee']\n",
    "initial1 = initial1.loc[initial1['NAME'].isin(thelist)].reset_index(drop = True)\n",
    "initial1 = initial1.rename(columns = {'personsperhousehold': 'Persons per Household 2023 Base'})"
   ]
  },
  {
   "cell_type": "code",
   "execution_count": 6,
   "id": "c23c377b",
   "metadata": {},
   "outputs": [
    {
     "data": {
      "text/html": [
       "<div>\n",
       "<style scoped>\n",
       "    .dataframe tbody tr th:only-of-type {\n",
       "        vertical-align: middle;\n",
       "    }\n",
       "\n",
       "    .dataframe tbody tr th {\n",
       "        vertical-align: top;\n",
       "    }\n",
       "\n",
       "    .dataframe thead th {\n",
       "        text-align: right;\n",
       "    }\n",
       "</style>\n",
       "<table border=\"1\" class=\"dataframe\">\n",
       "  <thead>\n",
       "    <tr style=\"text-align: right;\">\n",
       "      <th></th>\n",
       "      <th>NAME</th>\n",
       "      <th>Year</th>\n",
       "      <th>Persons per Household 2023 Base</th>\n",
       "    </tr>\n",
       "  </thead>\n",
       "  <tbody>\n",
       "    <tr>\n",
       "      <th>0</th>\n",
       "      <td>Cheatham County, Tennessee</td>\n",
       "      <td>1990</td>\n",
       "      <td>2.83</td>\n",
       "    </tr>\n",
       "    <tr>\n",
       "      <th>1</th>\n",
       "      <td>Cheatham County, Tennessee</td>\n",
       "      <td>1991</td>\n",
       "      <td>2.83</td>\n",
       "    </tr>\n",
       "    <tr>\n",
       "      <th>2</th>\n",
       "      <td>Cheatham County, Tennessee</td>\n",
       "      <td>1992</td>\n",
       "      <td>2.81</td>\n",
       "    </tr>\n",
       "    <tr>\n",
       "      <th>3</th>\n",
       "      <td>Cheatham County, Tennessee</td>\n",
       "      <td>1993</td>\n",
       "      <td>2.82</td>\n",
       "    </tr>\n",
       "    <tr>\n",
       "      <th>4</th>\n",
       "      <td>Cheatham County, Tennessee</td>\n",
       "      <td>1994</td>\n",
       "      <td>2.83</td>\n",
       "    </tr>\n",
       "  </tbody>\n",
       "</table>\n",
       "</div>"
      ],
      "text/plain": [
       "                         NAME  Year  Persons per Household 2023 Base\n",
       "0  Cheatham County, Tennessee  1990                             2.83\n",
       "1  Cheatham County, Tennessee  1991                             2.83\n",
       "2  Cheatham County, Tennessee  1992                             2.81\n",
       "3  Cheatham County, Tennessee  1993                             2.82\n",
       "4  Cheatham County, Tennessee  1994                             2.83"
      ]
     },
     "execution_count": 6,
     "metadata": {},
     "output_type": "execute_result"
    }
   ],
   "source": [
    "initial1.head()"
   ]
  },
  {
   "cell_type": "code",
   "execution_count": 7,
   "id": "840d6c79",
   "metadata": {},
   "outputs": [],
   "source": [
    "data = initial.merge(initial1, on = ['NAME', 'Year'], how = 'outer')"
   ]
  },
  {
   "cell_type": "code",
   "execution_count": 8,
   "id": "db41419e",
   "metadata": {},
   "outputs": [],
   "source": [
    "years = ['2020', '2025', '2035', '2045']\n",
    "data = data.loc[data['Year'].isin(years)]"
   ]
  },
  {
   "cell_type": "code",
   "execution_count": 9,
   "id": "e9fab367",
   "metadata": {},
   "outputs": [
    {
     "data": {
      "text/html": [
       "<div>\n",
       "<style scoped>\n",
       "    .dataframe tbody tr th:only-of-type {\n",
       "        vertical-align: middle;\n",
       "    }\n",
       "\n",
       "    .dataframe tbody tr th {\n",
       "        vertical-align: top;\n",
       "    }\n",
       "\n",
       "    .dataframe thead th {\n",
       "        text-align: right;\n",
       "    }\n",
       "</style>\n",
       "<table border=\"1\" class=\"dataframe\">\n",
       "  <thead>\n",
       "    <tr style=\"text-align: right;\">\n",
       "      <th></th>\n",
       "      <th>NAME</th>\n",
       "      <th>Year</th>\n",
       "      <th>Persons per Household 2017 Base</th>\n",
       "      <th>Persons per Household 2023 Base</th>\n",
       "    </tr>\n",
       "  </thead>\n",
       "  <tbody>\n",
       "    <tr>\n",
       "      <th>30</th>\n",
       "      <td>Cheatham County, Tennessee</td>\n",
       "      <td>2020</td>\n",
       "      <td>2.45</td>\n",
       "      <td>2.51</td>\n",
       "    </tr>\n",
       "    <tr>\n",
       "      <th>35</th>\n",
       "      <td>Cheatham County, Tennessee</td>\n",
       "      <td>2025</td>\n",
       "      <td>2.44</td>\n",
       "      <td>2.45</td>\n",
       "    </tr>\n",
       "    <tr>\n",
       "      <th>45</th>\n",
       "      <td>Cheatham County, Tennessee</td>\n",
       "      <td>2035</td>\n",
       "      <td>2.48</td>\n",
       "      <td>2.43</td>\n",
       "    </tr>\n",
       "    <tr>\n",
       "      <th>55</th>\n",
       "      <td>Cheatham County, Tennessee</td>\n",
       "      <td>2045</td>\n",
       "      <td>2.48</td>\n",
       "      <td>2.44</td>\n",
       "    </tr>\n",
       "    <tr>\n",
       "      <th>91</th>\n",
       "      <td>Davidson County, Tennessee</td>\n",
       "      <td>2020</td>\n",
       "      <td>2.31</td>\n",
       "      <td>2.28</td>\n",
       "    </tr>\n",
       "  </tbody>\n",
       "</table>\n",
       "</div>"
      ],
      "text/plain": [
       "                          NAME  Year  Persons per Household 2017 Base  \\\n",
       "30  Cheatham County, Tennessee  2020                             2.45   \n",
       "35  Cheatham County, Tennessee  2025                             2.44   \n",
       "45  Cheatham County, Tennessee  2035                             2.48   \n",
       "55  Cheatham County, Tennessee  2045                             2.48   \n",
       "91  Davidson County, Tennessee  2020                             2.31   \n",
       "\n",
       "    Persons per Household 2023 Base  \n",
       "30                             2.51  \n",
       "35                             2.45  \n",
       "45                             2.43  \n",
       "55                             2.44  \n",
       "91                             2.28  "
      ]
     },
     "execution_count": 9,
     "metadata": {},
     "output_type": "execute_result"
    }
   ],
   "source": [
    "data.head()"
   ]
  },
  {
   "cell_type": "code",
   "execution_count": 10,
   "id": "1d2e2bb8",
   "metadata": {},
   "outputs": [],
   "source": [
    "data['Difference 2023-2017 Base'] = data['Persons per Household 2023 Base'] - data['Persons per Household 2017 Base']\n",
    "data['Difference % 2023-2017 Base'] = ((data['Persons per Household 2023 Base'] - data['Persons per Household 2017 Base'])/data['Persons per Household 2017 Base'])*100"
   ]
  },
  {
   "cell_type": "code",
   "execution_count": 11,
   "id": "969250d9",
   "metadata": {},
   "outputs": [
    {
     "data": {
      "text/html": [
       "<div>\n",
       "<style scoped>\n",
       "    .dataframe tbody tr th:only-of-type {\n",
       "        vertical-align: middle;\n",
       "    }\n",
       "\n",
       "    .dataframe tbody tr th {\n",
       "        vertical-align: top;\n",
       "    }\n",
       "\n",
       "    .dataframe thead th {\n",
       "        text-align: right;\n",
       "    }\n",
       "</style>\n",
       "<table border=\"1\" class=\"dataframe\">\n",
       "  <thead>\n",
       "    <tr style=\"text-align: right;\">\n",
       "      <th></th>\n",
       "      <th>NAME</th>\n",
       "      <th>Year</th>\n",
       "      <th>Persons per Household 2017 Base</th>\n",
       "      <th>Persons per Household 2023 Base</th>\n",
       "      <th>Difference 2023-2017 Base</th>\n",
       "      <th>Difference % 2023-2017 Base</th>\n",
       "    </tr>\n",
       "  </thead>\n",
       "  <tbody>\n",
       "    <tr>\n",
       "      <th>787</th>\n",
       "      <td>Williamson County, Tennessee</td>\n",
       "      <td>2045</td>\n",
       "      <td>2.78</td>\n",
       "      <td>2.63</td>\n",
       "      <td>-0.15</td>\n",
       "      <td>-5.395683</td>\n",
       "    </tr>\n",
       "    <tr>\n",
       "      <th>823</th>\n",
       "      <td>Wilson County, Tennessee</td>\n",
       "      <td>2020</td>\n",
       "      <td>2.57</td>\n",
       "      <td>2.73</td>\n",
       "      <td>0.16</td>\n",
       "      <td>6.225681</td>\n",
       "    </tr>\n",
       "    <tr>\n",
       "      <th>828</th>\n",
       "      <td>Wilson County, Tennessee</td>\n",
       "      <td>2025</td>\n",
       "      <td>2.57</td>\n",
       "      <td>2.63</td>\n",
       "      <td>0.06</td>\n",
       "      <td>2.334630</td>\n",
       "    </tr>\n",
       "    <tr>\n",
       "      <th>838</th>\n",
       "      <td>Wilson County, Tennessee</td>\n",
       "      <td>2035</td>\n",
       "      <td>2.64</td>\n",
       "      <td>2.60</td>\n",
       "      <td>-0.04</td>\n",
       "      <td>-1.515152</td>\n",
       "    </tr>\n",
       "    <tr>\n",
       "      <th>848</th>\n",
       "      <td>Wilson County, Tennessee</td>\n",
       "      <td>2045</td>\n",
       "      <td>2.66</td>\n",
       "      <td>2.60</td>\n",
       "      <td>-0.06</td>\n",
       "      <td>-2.255639</td>\n",
       "    </tr>\n",
       "  </tbody>\n",
       "</table>\n",
       "</div>"
      ],
      "text/plain": [
       "                             NAME  Year  Persons per Household 2017 Base  \\\n",
       "787  Williamson County, Tennessee  2045                             2.78   \n",
       "823      Wilson County, Tennessee  2020                             2.57   \n",
       "828      Wilson County, Tennessee  2025                             2.57   \n",
       "838      Wilson County, Tennessee  2035                             2.64   \n",
       "848      Wilson County, Tennessee  2045                             2.66   \n",
       "\n",
       "     Persons per Household 2023 Base  Difference 2023-2017 Base  \\\n",
       "787                             2.63                      -0.15   \n",
       "823                             2.73                       0.16   \n",
       "828                             2.63                       0.06   \n",
       "838                             2.60                      -0.04   \n",
       "848                             2.60                      -0.06   \n",
       "\n",
       "     Difference % 2023-2017 Base  \n",
       "787                    -5.395683  \n",
       "823                     6.225681  \n",
       "828                     2.334630  \n",
       "838                    -1.515152  \n",
       "848                    -2.255639  "
      ]
     },
     "execution_count": 11,
     "metadata": {},
     "output_type": "execute_result"
    }
   ],
   "source": [
    "data.tail()"
   ]
  },
  {
   "cell_type": "code",
   "execution_count": 12,
   "id": "9ed9a453",
   "metadata": {},
   "outputs": [
    {
     "data": {
      "text/plain": [
       "array(['2020', '2025', '2035', '2045'], dtype=object)"
      ]
     },
     "execution_count": 12,
     "metadata": {},
     "output_type": "execute_result"
    }
   ],
   "source": [
    "data['Year'].unique()"
   ]
  },
  {
   "cell_type": "code",
   "execution_count": 13,
   "id": "487c6a23",
   "metadata": {},
   "outputs": [],
   "source": [
    "#data = data.loc[(data['NAME'] != 'GNRC')&(data['NAME'] != 'MPO')]\n",
    "#data = data.loc[(data['Year'] == '2045')].reset_index(drop = True)"
   ]
  },
  {
   "cell_type": "code",
   "execution_count": 14,
   "id": "deef3fb5",
   "metadata": {},
   "outputs": [
    {
     "data": {
      "text/plain": [
       "array(['Cheatham County, Tennessee', 'Davidson County, Tennessee',\n",
       "       'Dickson County, Tennessee', 'Houston County, Tennessee',\n",
       "       'Humphreys County, Tennessee', 'Maury County, Tennessee',\n",
       "       'Montgomery County, Tennessee', 'Robertson County, Tennessee',\n",
       "       'Rutherford County, Tennessee', 'Stewart County, Tennessee',\n",
       "       'Sumner County, Tennessee', 'Trousdale County, Tennessee',\n",
       "       'Williamson County, Tennessee', 'Wilson County, Tennessee'],\n",
       "      dtype=object)"
      ]
     },
     "execution_count": 14,
     "metadata": {},
     "output_type": "execute_result"
    }
   ],
   "source": [
    "data['NAME'].unique()"
   ]
  },
  {
   "cell_type": "code",
   "execution_count": 16,
   "id": "d8c2d6a3",
   "metadata": {},
   "outputs": [],
   "source": [
    "data.to_csv('../data/personsperhousehold_projectioncomps.csv', index = False)"
   ]
  },
  {
   "cell_type": "code",
   "execution_count": null,
   "id": "9d2dcbe1",
   "metadata": {},
   "outputs": [],
   "source": []
  }
 ],
 "metadata": {
  "kernelspec": {
   "display_name": "Python 3 (ipykernel)",
   "language": "python",
   "name": "python3"
  },
  "language_info": {
   "codemirror_mode": {
    "name": "ipython",
    "version": 3
   },
   "file_extension": ".py",
   "mimetype": "text/x-python",
   "name": "python",
   "nbconvert_exporter": "python",
   "pygments_lexer": "ipython3",
   "version": "3.11.5"
  }
 },
 "nbformat": 4,
 "nbformat_minor": 5
}
